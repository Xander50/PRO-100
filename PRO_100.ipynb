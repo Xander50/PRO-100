{
  "nbformat": 4,
  "nbformat_minor": 0,
  "metadata": {
    "colab": {
      "provenance": [],
      "authorship_tag": "ABX9TyNadaUFeWcOfZHoMgugGOag",
      "include_colab_link": true
    },
    "kernelspec": {
      "name": "python3",
      "display_name": "Python 3"
    },
    "language_info": {
      "name": "python"
    }
  },
  "cells": [
    {
      "cell_type": "markdown",
      "metadata": {
        "id": "view-in-github",
        "colab_type": "text"
      },
      "source": [
        "<a href=\"https://colab.research.google.com/github/Xander50/PRO-100/blob/main/PRO_100.ipynb\" target=\"_parent\"><img src=\"https://colab.research.google.com/assets/colab-badge.svg\" alt=\"Open In Colab\"/></a>"
      ]
    },
    {
      "cell_type": "code",
      "execution_count": 11,
      "metadata": {
        "colab": {
          "base_uri": "https://localhost:8080/"
        },
        "id": "BBzZZUWbxidP",
        "outputId": "f9bd4424-937a-49b4-aa20-4d2f77c5ac03"
      },
      "outputs": [
        {
          "output_type": "stream",
          "name": "stdout",
          "text": [
            "Thanks for the response, You rated Movie with   *****\n",
            "{'Movie Name': 'Beautiful Sound', 'Story rating': 5, 'Actor Rating': 5, 'Music Rating': 5, 'Avg Rating': 5}\n"
          ]
        }
      ],
      "source": [
        "class MovieReview:\n",
        "  def __init__(self,movie,story,actors,music):\n",
        "    self.movie_name=movie\n",
        "    self.story_rating=story\n",
        "    self.actor_rating=actors\n",
        "    self.music_rating=music\n",
        "    self.avg=int((self.story_rating+self.actor_rating+self.music_rating)/3)\n",
        "    self.myrating={\n",
        "        \"Movie Name\":self.movie_name,\n",
        "        \"Story rating\":self.story_rating,\n",
        "        \"Actor Rating\":self.actor_rating,\n",
        "        \"Music Rating\":self.music_rating,\n",
        "        \"Avg Rating\":self.avg\n",
        "    }\n",
        "\n",
        "#review2=MovieReview(\"Beautiful Sound\",5,5,5)\n",
        "  def add_movie_ratings(self, movie_list):\n",
        "      movie_list.append(self.myrating)\n",
        "\n",
        "  def avg_star_ratings(self,movie_list):\n",
        "    for movie in movie_list:\n",
        "      if(movie[\"Avg Rating\"] == 1):\n",
        "        print(\"Thanks for the response, You rated Movie with   *\")\n",
        "        print(movie)\n",
        "\n",
        "      elif(movie[\"Avg Rating\"] == 2):\n",
        "        print(\"Thanks for the response, You rated Movie with   **\")\n",
        "        print(movie)\n",
        "\n",
        "      elif(movie[\"Avg Rating\"] == 3):\n",
        "        print(\"Thanks for the response, You rated Movie with   ***\")\n",
        "        print(movie)\n",
        "\n",
        "      elif(movie[\"Avg Rating\"] == 4):\n",
        "        print(\"Thanks for the response, You rated Movie with   ****\")\n",
        "        print(movie)\n",
        "\n",
        "      elif(movie[\"Avg Rating\"] == 5):\n",
        "        print(\"Thanks for the response, You rated Movie with   *****\")\n",
        "        print(movie)\n",
        "moviereviews=[]\n",
        "review2 = MovieReview(\"Beautiful Sound\", 5, 5, 5)\n",
        "review2.add_movie_ratings(moviereviews)\n",
        "review2.avg_star_ratings(moviereviews)"
      ]
    }
  ]
}